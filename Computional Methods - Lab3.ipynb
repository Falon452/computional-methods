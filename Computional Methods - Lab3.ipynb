{
 "cells": [
  {
   "cell_type": "markdown",
   "id": "28b46265",
   "metadata": {},
   "source": [
    "# <center>Computational Methods in Science and Technology</center>\n",
    "## <center>Laboratory 3</center>"
   ]
  },
  {
   "cell_type": "markdown",
   "id": "b05952d7",
   "metadata": {},
   "source": [
    "# Table of Contents"
   ]
  },
  {
   "cell_type": "markdown",
   "id": "e9a826e5",
   "metadata": {},
   "source": []
  },
  {
   "cell_type": "markdown",
   "id": "22e3e178",
   "metadata": {},
   "source": [
    "## Imports"
   ]
  },
  {
   "cell_type": "code",
   "execution_count": 174,
   "id": "37bbc50a",
   "metadata": {},
   "outputs": [],
   "source": [
    "from mpmath import *\n",
    "import numpy as np"
   ]
  },
  {
   "cell_type": "code",
   "execution_count": 175,
   "id": "68c625e5",
   "metadata": {},
   "outputs": [],
   "source": [
    "mp.dps = 50"
   ]
  },
  {
   "cell_type": "markdown",
   "id": "622057d5",
   "metadata": {},
   "source": [
    "# Test functions\n"
   ]
  },
  {
   "cell_type": "code",
   "execution_count": 176,
   "id": "e79f15aa",
   "metadata": {},
   "outputs": [],
   "source": [
    "def f1(x):\n",
    "    return np.cos(x)*np.cosh(x) - 1\n",
    "f1_a = 1.5*np.pi\n",
    "f1_b = 2*np.pi\n",
    "\n",
    "def f2(x):\n",
    "    if x == 0: return np.inf\n",
    "    return (1/x)-np.tan(x)\n",
    "f2_a = 0\n",
    "f2_b = np.pi/2\n",
    "\n",
    "def f3(x):\n",
    "    return np.exp2(-x) + np.e ** x + 2*np.cos(x) - 6\n",
    "f3_a = 1\n",
    "f3_b = 3\n"
   ]
  },
  {
   "cell_type": "code",
   "execution_count": null,
   "id": "2e46d85c",
   "metadata": {},
   "outputs": [],
   "source": [
    "def d_f1: return np.cos(x)*np.sinh(x) - np.sin(x)*np.cosh(x)\n",
    "def d_f2:\n",
    "    if x == 0:\n",
    "        return np.inf\n",
    "    return -(1/x**2)-(np.arccos(x))**2\n",
    "def d_f3:\n",
    "    return e**x - 2**-+\n",
    "    "
   ]
  },
  {
   "cell_type": "code",
   "execution_count": 177,
   "id": "e3562045",
   "metadata": {},
   "outputs": [
    {
     "data": {
      "text/plain": [
       "(-2.5656258353157435, 0.4758798764076111, 47.353362791417005)"
      ]
     },
     "execution_count": 177,
     "metadata": {},
     "output_type": "execute_result"
    }
   ],
   "source": [
    "f1(2), f2(3), f3(4)"
   ]
  },
  {
   "cell_type": "markdown",
   "id": "2859b356",
   "metadata": {},
   "source": [
    "## Bisection"
   ]
  },
  {
   "cell_type": "code",
   "execution_count": 180,
   "id": "d6a4f0ab",
   "metadata": {},
   "outputs": [],
   "source": [
    "def bisection(function, a, b, epsilon, delta, max_iterations):\n",
    "    c = a + (b-a)/2\n",
    "    n = 0\n",
    "    while n < max_iterations:\n",
    "        c = a +(b-a)/2\n",
    "        if abs(function(c)) < epsilon and abs(a - b) < delta:\n",
    "            return c, n\n",
    "        if np.sign(function(c)) == np.sign(function(a)):\n",
    "            a = c\n",
    "        else:\n",
    "            b = c\n",
    "        n += 1\n",
    "    return None, None"
   ]
  },
  {
   "cell_type": "code",
   "execution_count": 184,
   "id": "9ea6a312",
   "metadata": {},
   "outputs": [
    {
     "name": "stdout",
     "output_type": "stream",
     "text": [
      "[28, None, None]\n",
      "[24, 51, None]\n",
      "[25, 51, None]\n"
     ]
    }
   ],
   "source": [
    "epsilons = [1e-7, 1e-15, 1e-33]\n",
    "iters_f1 = []\n",
    "iters_f2 = []\n",
    "iters_f3 = []\n",
    "for e in epsilons:\n",
    "    x1, i1 = bisection(f1, f1_a, f1_b, e, e, 1e6)\n",
    "    x2, i2 = bisection(f2, f2_a, f2_b, e, e, 1e6)\n",
    "    x3, i3 = bisection(f3, f3_a, f3_b, e, e, 1e6)\n",
    "    iters_f1.append(i1)\n",
    "    iters_f2.append(i2)\n",
    "    iters_f3.append(i3)\n",
    "print(iters_f1)\n",
    "print(iters_f2)\n",
    "print(iters_f3)"
   ]
  },
  {
   "cell_type": "code",
   "execution_count": null,
   "id": "baf9a598",
   "metadata": {},
   "outputs": [],
   "source": []
  }
 ],
 "metadata": {
  "kernelspec": {
   "display_name": "Python 3 (ipykernel)",
   "language": "python",
   "name": "python3"
  },
  "language_info": {
   "codemirror_mode": {
    "name": "ipython",
    "version": 3
   },
   "file_extension": ".py",
   "mimetype": "text/x-python",
   "name": "python",
   "nbconvert_exporter": "python",
   "pygments_lexer": "ipython3",
   "version": "3.9.10"
  }
 },
 "nbformat": 4,
 "nbformat_minor": 5
}
