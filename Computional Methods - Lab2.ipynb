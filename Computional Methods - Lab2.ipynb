{
 "cells": [
  {
   "cell_type": "markdown",
   "id": "5c082ae0",
   "metadata": {},
   "source": [
    "# <center>Computational Methods in Science and Technology</center>\n",
    "## <center>Laboratory 2</center>"
   ]
  },
  {
   "cell_type": "markdown",
   "id": "45748705",
   "metadata": {},
   "source": [
    "# Table of Contents"
   ]
  },
  {
   "cell_type": "markdown",
   "id": "0b1860ff",
   "metadata": {},
   "source": [
    "## Imports"
   ]
  },
  {
   "cell_type": "code",
   "execution_count": 1,
   "id": "49bbb624",
   "metadata": {},
   "outputs": [],
   "source": [
    "import numpy as np\n",
    "import matplotlib.pyplot as plt\n",
    "import time"
   ]
  },
  {
   "cell_type": "markdown",
   "id": "343b5150",
   "metadata": {},
   "source": [
    "## functions"
   ]
  },
  {
   "cell_type": "code",
   "execution_count": 2,
   "id": "aafcee63",
   "metadata": {},
   "outputs": [],
   "source": [
    "def get_relative_error_from_result(result, actual, dtype=np.float64):\n",
    "    return dtype(np.absolute( (result-actual)/actual))"
   ]
  },
  {
   "cell_type": "code",
   "execution_count": 3,
   "id": "bc2b4448",
   "metadata": {},
   "outputs": [],
   "source": [
    "def generate_a_b(n):\n",
    "    return np.random.random((n, n)), np.random.random(n)"
   ]
  },
  {
   "cell_type": "markdown",
   "id": "62708d9a",
   "metadata": {},
   "source": [
    "# Gauss-Jordan Method"
   ]
  },
  {
   "cell_type": "code",
   "execution_count": 4,
   "id": "8f65aaf2",
   "metadata": {
    "scrolled": true
   },
   "outputs": [],
   "source": [
    "def gauss_jordan(a, b):\n",
    "    def scale(a, b):\n",
    "        new_a = []\n",
    "        new_b = []\n",
    "\n",
    "        for i, row in enumerate(a):\n",
    "            max = np.max(row)\n",
    "            new_a.append(row / max)\n",
    "            new_b.append(b[i] / max)\n",
    "        return new_a, new_b\n",
    "\n",
    "    a, b = scale(a, b)  # not to overwrite given arguments\n",
    "    a = np.array(a, dtype=np.float64)\n",
    "    b = np.array(b, dtype=np.float64)\n",
    "\n",
    "    n = len(a)\n",
    "\n",
    "    for c in range(n):\n",
    "        pivot_index = np.argmax(a[c:, c]) + c\n",
    "        a[[c, pivot_index]] = a[[pivot_index, c]]  # swap rows\n",
    "        b[c], b[pivot_index] = b[pivot_index], b[c]\n",
    "\n",
    "        for r in range(n):\n",
    "            if r != c:\n",
    "                multiplier = a[r][c] / a[c][c]\n",
    "                a[r] -= multiplier * a[c]\n",
    "                b[r] -= multiplier * b[c]\n",
    "\n",
    "    return b / np.diagonal(a)"
   ]
  },
  {
   "cell_type": "code",
   "execution_count": 6,
   "id": "13b7d0b2",
   "metadata": {
    "scrolled": false
   },
   "outputs": [
    {
     "name": "stdout",
     "output_type": "stream",
     "text": [
      "np:  [-49.31608118137947   29.524184009222278  37.094123784937274\n",
      " -32.376345906124506  35.044231587613424]\n",
      "gj:  [-49.31608118137928   29.52418400922216   37.094123784937146\n",
      " -32.37634590612439   35.044231587613304]\n",
      "gauss jordan relative error to numpy:\n",
      "  [3.75e-15 3.97e-15 3.45e-15 3.51e-15 3.45e-15]\n"
     ]
    }
   ],
   "source": [
    "a, b = generate_a_b(30)\n",
    "np.set_printoptions(precision=18)\n",
    "np_result = np.linalg.solve(a, b)\n",
    "gj_result = gauss_jordan(a, b)\n",
    "print(\"np: \", np_result)\n",
    "print(\"gj: \", gj_result)\n",
    "np.set_printoptions(precision=2)\n",
    "print(\"gauss jordan relative error to numpy:\\n \",get_relative_error_from_result(gj_result, np_result))\n",
    "np.set_printoptions(precision=8)"
   ]
  },
  {
   "cell_type": "code",
   "execution_count": 7,
   "id": "1e662286",
   "metadata": {},
   "outputs": [],
   "source": [
    "def get_relative_gauss_jordan_erros(shapes = (5, 10, 15)):\n",
    "    errors = []\n",
    "    for shape in shapes:\n",
    "        a, b = generate_a_b(shape)\n",
    "        x2 = np.linalg.solve(a, b)\n",
    "        x1 = gauss_jordan(a, b)\n",
    "        errors.append(np.average(get_relative_error_from_result(x1,x2)))\n",
    "    return errors   "
   ]
  },
  {
   "cell_type": "code",
   "execution_count": 8,
   "id": "bb40d1df",
   "metadata": {
    "scrolled": false
   },
   "outputs": [
    {
     "data": {
      "text/plain": [
       "Text(0, 0.5, 'Gauss Jordan relative error to numpy.linalg.solve ')"
      ]
     },
     "execution_count": 8,
     "metadata": {},
     "output_type": "execute_result"
    },
    {
     "data": {
      "image/png": "[encoded data removed]",
      "text/plain": [
       "<Figure size 432x288 with 1 Axes>"
      ]
     },
     "metadata": {
      "needs_background": "light"
     },
     "output_type": "display_data"
    }
   ],
   "source": [
    "x = list(map(int, np.linspace(3, 1200, 30)))\n",
    "errors = get_relative_gauss_jordan_erros(shapes= x)\n",
    "fig, ax = plt.subplots(1, 1)\n",
    "ax.plot(x, errors)\n",
    "ax.set_xlabel('Input shape')\n",
    "ax.set_ylabel(\"Gauss Jordan relative error to numpy.linalg.solve \")"
   ]
  },
  {
   "cell_type": "markdown",
   "id": "61e448c2",
   "metadata": {},
   "source": [
    "## Maximum error"
   ]
  },
  {
   "cell_type": "code",
   "execution_count": 9,
   "id": "bfe3a58b",
   "metadata": {},
   "outputs": [
    {
     "name": "stdout",
     "output_type": "stream",
     "text": [
      "Maximum error observed:  7.618469938938136e-10\n"
     ]
    }
   ],
   "source": [
    "np.set_printoptions(precision=2)\n",
    "print(\"Maximum error observed: \", np.max(errors))\n",
    "np.set_printoptions(precision=8)"
   ]
  },
  {
   "cell_type": "markdown",
   "id": "ee496432",
   "metadata": {},
   "source": [
    "---\n",
    "- as input dimension grows, Gauss Jordan errors also **sligthly** grows\n",
    "---"
   ]
  },
  {
   "cell_type": "markdown",
   "id": "87ffd3ac",
   "metadata": {},
   "source": [
    "## Time"
   ]
  },
  {
   "cell_type": "code",
   "execution_count": 19,
   "id": "15ae015b",
   "metadata": {},
   "outputs": [],
   "source": [
    "import time\n",
    "\n",
    "def plot_times():\n",
    "    x = list(map(int, np.linspace(3, 700, 20)))\n",
    "    gj_times = []\n",
    "    np_times = []\n",
    "    for shape in x:\n",
    "        a, b = generate_a_b(shape)\n",
    "        start = time.time()\n",
    "        gauss_jordan(a, b)\n",
    "        end = time.time()\n",
    "        gj_times.append(end - start)\n",
    "\n",
    "        start = time.time()\n",
    "        np.linalg.solve(a, b)\n",
    "        end = time.time()\n",
    "        np_times.append(end - start)\n",
    "    plt.plot(x, gj_times, label=\"Gauss Jordan\")\n",
    "    plt.plot(x, np_times, label=\"Numpy\")\n",
    "    plt.ylabel('time [s]')\n",
    "    plt.xlabel('n')\n",
    "    plt.legend()\n",
    "    plt.show()"
   ]
  },
  {
   "cell_type": "code",
   "execution_count": 20,
   "id": "c60e21c5",
   "metadata": {},
   "outputs": [
    {
     "data": {
      "image/png": "[encoded data removed]",
      "text/plain": [
       "<Figure size 432x288 with 1 Axes>"
      ]
     },
     "metadata": {
      "needs_background": "light"
     },
     "output_type": "display_data"
    }
   ],
   "source": [
    "plot_times()"
   ]
  },
  {
   "cell_type": "code",
   "execution_count": 12,
   "id": "5c79749c",
   "metadata": {},
   "outputs": [],
   "source": [
    "a, b = generate_a_b(1300)"
   ]
  },
  {
   "cell_type": "code",
   "execution_count": 13,
   "id": "7a16b043",
   "metadata": {
    "scrolled": true
   },
   "outputs": [
    {
     "name": "stdout",
     "output_type": "stream",
     "text": [
      "CPU times: user 274 ms, sys: 11.3 ms, total: 286 ms\n",
      "Wall time: 43.7 ms\n"
     ]
    }
   ],
   "source": [
    "%%time \n",
    "_ =np.linalg.solve(a, b)"
   ]
  },
  {
   "cell_type": "code",
   "execution_count": 14,
   "id": "f4e24799",
   "metadata": {
    "scrolled": false
   },
   "outputs": [
    {
     "name": "stdout",
     "output_type": "stream",
     "text": [
      "CPU times: user 4.84 s, sys: 1.33 s, total: 6.17 s\n",
      "Wall time: 4.49 s\n"
     ]
    }
   ],
   "source": [
    "%%time\n",
    "_=gauss_jordan(a, b)"
   ]
  },
  {
   "cell_type": "markdown",
   "id": "60a87a04",
   "metadata": {},
   "source": [
    "---\n",
    "- gauss_jordan implementation is much **slower** than numpy solver, probably to inefficient use of numpy arrays (get rid of python's for)\n",
    "- also np.linalg.solve is using different algorithm\n",
    "\n",
    "---"
   ]
  },
  {
   "cell_type": "markdown",
   "id": "a00622b1",
   "metadata": {},
   "source": [
    "# LU Factorization"
   ]
  },
  {
   "cell_type": "code",
   "execution_count": 26,
   "id": "9895c887",
   "metadata": {},
   "outputs": [],
   "source": [
    "def LU_factorization(a):\n",
    "    n = len(a)\n",
    "    U = a.copy()\n",
    "    L = np.eye(n)\n",
    "\n",
    "    for c in range(n):\n",
    "        for r in range(c + 1, n):\n",
    "            multiplier = U[r][c] / U[c][c]\n",
    "            U[r] -= multiplier * U[c]\n",
    "            L[r][c] = multiplier\n",
    "    return L, U\n",
    "\n",
    "\n",
    "def LU_abs_error(a, L, U):\n",
    "    return np.sum(np.absolute(a - L@U))"
   ]
  },
  {
   "cell_type": "code",
   "execution_count": 27,
   "id": "8c96d32d",
   "metadata": {},
   "outputs": [
    {
     "data": {
      "text/plain": [
       "3.803711306430563e-12"
      ]
     },
     "execution_count": 27,
     "metadata": {},
     "output_type": "execute_result"
    }
   ],
   "source": [
    "a, _ = generate_a_b(50)\n",
    "L, U = LU_factorization(a)\n",
    "LU_abs_error(a, L, U)"
   ]
  },
  {
   "cell_type": "code",
   "execution_count": 34,
   "id": "bdca280d",
   "metadata": {},
   "outputs": [],
   "source": [
    "def plot_LU_abs_errors():\n",
    "    x = list(map(int, np.linspace(3, 1200, 20)))\n",
    "    errors = []\n",
    "    for shape in x: \n",
    "        a, _ = generate_a_b(shape)\n",
    "        L, U = LU_factorization(a)\n",
    "        LU_abs_error(a, L, U)\n",
    "        errors.append(LU_abs_error(a, L, U))\n",
    "    plt.plot(x, errors, label=\"LU_abs_error\")\n",
    "    plt.ylabel('error')\n",
    "    plt.xlabel('n')\n",
    "    plt.legend()\n",
    "    plt.show()"
   ]
  },
  {
   "cell_type": "code",
   "execution_count": 35,
   "id": "7027d829",
   "metadata": {},
   "outputs": [
    {
     "data": {
      "image/png": "[encoded data removed]",
      "text/plain": [
       "<Figure size 432x288 with 1 Axes>"
      ]
     },
     "metadata": {
      "needs_background": "light"
     },
     "output_type": "display_data"
    }
   ],
   "source": [
    "plot_LU_abs_errors()"
   ]
  },
  {
   "cell_type": "markdown",
   "id": "71e28f5d",
   "metadata": {},
   "source": [
    "---\n",
    "* As n grows, LU_abs_error also grows, because we are making more operations on floats that are prone to error"
   ]
  },
  {
   "cell_type": "code",
   "execution_count": null,
   "id": "858926f6",
   "metadata": {},
   "outputs": [],
   "source": []
  }
 ],
 "metadata": {
  "kernelspec": {
   "display_name": "Python 3 (ipykernel)",
   "language": "python",
   "name": "python3"
  },
  "language_info": {
   "codemirror_mode": {
    "name": "ipython",
    "version": 3
   },
   "file_extension": ".py",
   "mimetype": "text/x-python",
   "name": "python",
   "nbconvert_exporter": "python",
   "pygments_lexer": "ipython3",
   "version": "3.9.10"
  }
 },
 "nbformat": 4,
 "nbformat_minor": 5
}
