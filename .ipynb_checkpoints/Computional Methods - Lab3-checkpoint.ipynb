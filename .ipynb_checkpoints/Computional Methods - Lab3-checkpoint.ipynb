{
 "cells": [
  {
   "cell_type": "markdown",
   "id": "78b8dce0",
   "metadata": {},
   "source": [
    "# <center>Computational Methods in Science and Technology</center>\n",
    "## <center>Laboratory 3</center>"
   ]
  },
  {
   "cell_type": "markdown",
   "id": "c5348ba8",
   "metadata": {},
   "source": [
    "# Table of Contents"
   ]
  },
  {
   "cell_type": "markdown",
   "id": "6793cf43",
   "metadata": {},
   "source": []
  },
  {
   "cell_type": "markdown",
   "id": "c1034914",
   "metadata": {},
   "source": [
    "## Imports"
   ]
  },
  {
   "cell_type": "code",
   "execution_count": 7,
   "id": "b372138c",
   "metadata": {},
   "outputs": [],
   "source": [
    "from mpmath import *\n",
    "import numpy as np"
   ]
  },
  {
   "cell_type": "code",
   "execution_count": 2,
   "id": "702943cf",
   "metadata": {},
   "outputs": [],
   "source": [
    "mp.dps = 50"
   ]
  },
  {
   "cell_type": "markdown",
   "id": "8d78b820",
   "metadata": {},
   "source": [
    "# Test functions\n"
   ]
  },
  {
   "cell_type": "code",
   "execution_count": 135,
   "id": "123e7e4b",
   "metadata": {},
   "outputs": [],
   "source": [
    "def f1(x):\n",
    "    return np.cos(x)*np.cosh(x) - 1\n",
    "f1_a = 1.5*np.pi\n",
    "f2_b = 2*np.pi\n",
    "\n",
    "def f2(x):\n",
    "    return (1/x)-np.tan(x)\n",
    "f2_a = 0\n",
    "f2_b = np.pi/2\n",
    "\n",
    "def f3(x):\n",
    "    return np.exp2(-x) + e ** x + 2*np.cos(x) - 6\n",
    "f3_a = 1\n",
    "f3_b = 3\n"
   ]
  },
  {
   "cell_type": "code",
   "execution_count": 136,
   "id": "9eede122",
   "metadata": {},
   "outputs": [
    {
     "data": {
      "text/plain": [
       "(-2.5656258353157435,\n",
       " 0.4758798764076111,\n",
       " mpf('47.353362791417015197138696662628812337717723732949895'))"
      ]
     },
     "execution_count": 136,
     "metadata": {},
     "output_type": "execute_result"
    }
   ],
   "source": [
    "f1(2), f2(3), f3(4)"
   ]
  },
  {
   "cell_type": "markdown",
   "id": "efa0d63e",
   "metadata": {},
   "source": [
    "## Bisection"
   ]
  },
  {
   "cell_type": "code",
   "execution_count": 126,
   "id": "c193ff16",
   "metadata": {},
   "outputs": [],
   "source": [
    "def bisection(function, a, b, epsilon, delta, max_iterations):\n",
    "    c = a + (b-a)/2\n",
    "    n = 0\n",
    "    while n < max_iterations:\n",
    "        c = a + (b-a)/2\n",
    "        if abs(f(c)) < epsilon and abs(a - b) < delta:\n",
    "            return c\n",
    "        if np.sign(function(c)) == np.sign(function(a)):\n",
    "            a = c\n",
    "        else:\n",
    "            b = c\n",
    "        n += 1\n",
    "    return None"
   ]
  },
  {
   "cell_type": "code",
   "execution_count": 127,
   "id": "50e8ca66",
   "metadata": {},
   "outputs": [],
   "source": [
    "def f(x):\n",
    "    return x"
   ]
  },
  {
   "cell_type": "code",
   "execution_count": 128,
   "id": "5304b2a8",
   "metadata": {
    "scrolled": true
   },
   "outputs": [
    {
     "name": "stdout",
     "output_type": "stream",
     "text": [
      "-1.4901161193847656e-07\n"
     ]
    }
   ],
   "source": [
    "print(bisection(f, -10, 20, 1e-5, 1e-6, 2000000))"
   ]
  },
  {
   "cell_type": "code",
   "execution_count": null,
   "id": "f48c988d",
   "metadata": {},
   "outputs": [],
   "source": []
  },
  {
   "cell_type": "code",
   "execution_count": null,
   "id": "869f1088",
   "metadata": {},
   "outputs": [],
   "source": []
  }
 ],
 "metadata": {
  "kernelspec": {
   "display_name": "Python 3 (ipykernel)",
   "language": "python",
   "name": "python3"
  },
  "language_info": {
   "codemirror_mode": {
    "name": "ipython",
    "version": 3
   },
   "file_extension": ".py",
   "mimetype": "text/x-python",
   "name": "python",
   "nbconvert_exporter": "python",
   "pygments_lexer": "ipython3",
   "version": "3.9.10"
  }
 },
 "nbformat": 4,
 "nbformat_minor": 5
}
