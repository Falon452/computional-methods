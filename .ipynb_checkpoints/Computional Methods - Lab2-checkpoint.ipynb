{
 "cells": [
  {
   "cell_type": "markdown",
   "id": "5c082ae0",
   "metadata": {},
   "source": [
    "# <center>Computational Methods in Science and Technology</center>\n",
    "## <center>Laboratory 2</center>"
   ]
  },
  {
   "cell_type": "markdown",
   "id": "45748705",
   "metadata": {},
   "source": [
    "# Table of Contents"
   ]
  },
  {
   "cell_type": "markdown",
   "id": "0b1860ff",
   "metadata": {},
   "source": [
    "## Imports"
   ]
  },
  {
   "cell_type": "code",
   "execution_count": 171,
   "id": "49bbb624",
   "metadata": {},
   "outputs": [],
   "source": [
    "import numpy as np"
   ]
  },
  {
   "cell_type": "markdown",
   "id": "62708d9a",
   "metadata": {},
   "source": [
    "# Gauss-Jordan Method"
   ]
  },
  {
   "cell_type": "code",
   "execution_count": 183,
   "id": "f4066f15",
   "metadata": {},
   "outputs": [],
   "source": [
    "n = len(b)\n",
    "a = np.array([[1, 2], [3, 5]], dtype=np.float64)\n",
    "b = np.array([1, 2], dtype=np.float64)"
   ]
  },
  {
   "cell_type": "code",
   "execution_count": 184,
   "id": "d934935f",
   "metadata": {},
   "outputs": [],
   "source": [
    "def scaling(a, b):\n",
    "    for i, row in enumerate(a):\n",
    "        max = np.max(row) \n",
    "        row /= max\n",
    "        b[i] /= max"
   ]
  },
  {
   "cell_type": "code",
   "execution_count": 185,
   "id": "3b925ef7",
   "metadata": {},
   "outputs": [
    {
     "data": {
      "text/plain": [
       "(array([[0.5, 1. ],\n",
       "        [0.6, 1. ]]),\n",
       " array([0.5, 0.4]))"
      ]
     },
     "execution_count": 185,
     "metadata": {},
     "output_type": "execute_result"
    }
   ],
   "source": [
    "scaling(a, b)\n",
    "a, b"
   ]
  },
  {
   "cell_type": "markdown",
   "id": "63f08855",
   "metadata": {},
   "source": [
    "partial_pivoting - szukanie w kolumnie"
   ]
  },
  {
   "cell_type": "code",
   "execution_count": 186,
   "id": "8f65aaf2",
   "metadata": {
    "scrolled": true
   },
   "outputs": [],
   "source": [
    "for c in range(n):\n",
    "    pivot_index = np.argmax(a[c:, c]) + c  \n",
    "    a[[c, pivot_index]] = a[[pivot_index, c]]  # swap rows\n",
    "    b[c], b[pivot_index] = b[pivot_index], b[c] \n",
    "    value_in_pivot = a[c][c]\n",
    "    for r in range(n):\n",
    "        if r != c:\n",
    "            multiplier = a[r][c]/value_in_pivot\n",
    "            for k in range(c, n):\n",
    "                a[r][k] -= multiplier * a[c][k]\n",
    "            b[r] -= multiplier * b[c]"
   ]
  },
  {
   "cell_type": "code",
   "execution_count": 187,
   "id": "e7943e26",
   "metadata": {
    "scrolled": true
   },
   "outputs": [
    {
     "data": {
      "text/plain": [
       "array([-1.,  1.])"
      ]
     },
     "execution_count": 187,
     "metadata": {},
     "output_type": "execute_result"
    }
   ],
   "source": [
    "np_result = np.linalg.solve(a, b)\n",
    "np_result"
   ]
  },
  {
   "cell_type": "code",
   "execution_count": 190,
   "id": "029ad467",
   "metadata": {
    "scrolled": false
   },
   "outputs": [
    {
     "data": {
      "text/plain": [
       "array([-1.,  1.])"
      ]
     },
     "execution_count": 190,
     "metadata": {},
     "output_type": "execute_result"
    }
   ],
   "source": [
    "diagonal = np.diagonal(a)\n",
    "diagonal / b"
   ]
  },
  {
   "cell_type": "code",
   "execution_count": null,
   "id": "0ce42eda",
   "metadata": {},
   "outputs": [],
   "source": []
  }
 ],
 "metadata": {
  "kernelspec": {
   "display_name": "Python 3 (ipykernel)",
   "language": "python",
   "name": "python3"
  },
  "language_info": {
   "codemirror_mode": {
    "name": "ipython",
    "version": 3
   },
   "file_extension": ".py",
   "mimetype": "text/x-python",
   "name": "python",
   "nbconvert_exporter": "python",
   "pygments_lexer": "ipython3",
   "version": "3.9.10"
  }
 },
 "nbformat": 4,
 "nbformat_minor": 5
}
